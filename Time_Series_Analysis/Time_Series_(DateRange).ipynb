{
 "cells": [
  {
   "cell_type": "code",
   "execution_count": 1,
   "metadata": {},
   "outputs": [],
   "source": [
    "import pandas as pd\n",
    "import matplotlib.pyplot as plt "
   ]
  },
  {
   "cell_type": "code",
   "execution_count": 2,
   "metadata": {},
   "outputs": [
    {
     "data": {
      "text/html": [
       "<div>\n",
       "<style scoped>\n",
       "    .dataframe tbody tr th:only-of-type {\n",
       "        vertical-align: middle;\n",
       "    }\n",
       "\n",
       "    .dataframe tbody tr th {\n",
       "        vertical-align: top;\n",
       "    }\n",
       "\n",
       "    .dataframe thead th {\n",
       "        text-align: right;\n",
       "    }\n",
       "</style>\n",
       "<table border=\"1\" class=\"dataframe\">\n",
       "  <thead>\n",
       "    <tr style=\"text-align: right;\">\n",
       "      <th></th>\n",
       "      <th>Close/Last</th>\n",
       "      <th>Volume</th>\n",
       "      <th>Open</th>\n",
       "      <th>High</th>\n",
       "      <th>Low</th>\n",
       "    </tr>\n",
       "  </thead>\n",
       "  <tbody>\n",
       "    <tr>\n",
       "      <th>0</th>\n",
       "      <td>$136.76</td>\n",
       "      <td>75693830</td>\n",
       "      <td>$137.35</td>\n",
       "      <td>$137.42</td>\n",
       "      <td>$135.86</td>\n",
       "    </tr>\n",
       "    <tr>\n",
       "      <th>1</th>\n",
       "      <td>$137.39</td>\n",
       "      <td>84183060</td>\n",
       "      <td>$136.30</td>\n",
       "      <td>$137.40</td>\n",
       "      <td>$134.59</td>\n",
       "    </tr>\n",
       "    <tr>\n",
       "      <th>2</th>\n",
       "      <td>$133.94</td>\n",
       "      <td>89880940</td>\n",
       "      <td>$135.76</td>\n",
       "      <td>$135.77</td>\n",
       "      <td>$133.61</td>\n",
       "    </tr>\n",
       "    <tr>\n",
       "      <th>3</th>\n",
       "      <td>$134.99</td>\n",
       "      <td>83305370</td>\n",
       "      <td>$135.73</td>\n",
       "      <td>$136.31</td>\n",
       "      <td>$134.61</td>\n",
       "    </tr>\n",
       "    <tr>\n",
       "      <th>4</th>\n",
       "      <td>$134.14</td>\n",
       "      <td>106239800</td>\n",
       "      <td>$133.75</td>\n",
       "      <td>$135.38</td>\n",
       "      <td>$130.93</td>\n",
       "    </tr>\n",
       "  </tbody>\n",
       "</table>\n",
       "</div>"
      ],
      "text/plain": [
       "   Close/Last     Volume      Open      High       Low\n",
       "0    $136.76    75693830  $137.35   $137.42   $135.86 \n",
       "1    $137.39    84183060  $136.30   $137.40   $134.59 \n",
       "2    $133.94    89880940  $135.76   $135.77   $133.61 \n",
       "3    $134.99    83305370  $135.73   $136.31   $134.61 \n",
       "4    $134.14   106239800  $133.75   $135.38   $130.93 "
      ]
     },
     "execution_count": 2,
     "metadata": {},
     "output_type": "execute_result"
    }
   ],
   "source": [
    "df_old = pd.read_csv(r\"without_date.csv\")\n",
    "df_old.head(5)"
   ]
  },
  {
   "cell_type": "markdown",
   "metadata": {},
   "source": [
    " <h2 style=\"color:green\"> lets modify our dataSet first"
   ]
  },
  {
   "cell_type": "code",
   "execution_count": 3,
   "metadata": {
    "scrolled": true
   },
   "outputs": [
    {
     "name": "stdout",
     "output_type": "stream",
     "text": [
      "<class 'pandas.core.frame.DataFrame'>\n",
      "RangeIndex: 21 entries, 0 to 20\n",
      "Data columns (total 5 columns):\n",
      " #   Column   Non-Null Count  Dtype  \n",
      "---  ------   --------------  -----  \n",
      " 0    Volume  21 non-null     int64  \n",
      " 1   Open     21 non-null     float64\n",
      " 2   High     21 non-null     float64\n",
      " 3   Low      21 non-null     float64\n",
      " 4   Close    21 non-null     float64\n",
      "dtypes: float64(4), int64(1)\n",
      "memory usage: 968.0 bytes\n"
     ]
    }
   ],
   "source": [
    "cl=[i[2:] for i in df_old[' Close/Last'].values]\n",
    "op=[i[2:] for i in df_old[' Open'].values]\n",
    "hi=[i[2:] for i in df_old[' High'].values]\n",
    "lo=[i[2:] for i in df_old[' Low'].values]\n",
    "\n",
    "# print(cl[:5])\n",
    "# print(op[:5])\n",
    "# print(hi[:5])\n",
    "# print(lo[:5])\n",
    "df_old=df_old.drop([' Close/Last', ' Open', ' High', ' Low'],axis=1) # we dont need these values.\n",
    "\n",
    "df_old['Open']=op\n",
    "df_old['High']=hi\n",
    "df_old['Low']=lo\n",
    "df_old['Close']=cl\n",
    "\n",
    "df=df_old\n",
    "df['Close']=pd.to_numeric(df['Close'],errors='coerce')\n",
    "\n",
    "df['Open']=pd.to_numeric(df['Open'],errors='coerce')\n",
    "\n",
    "df['High']=pd.to_numeric(df['High'],errors='coerce')\n",
    "\n",
    "df['Low']=pd.to_numeric(df['Low'],errors='coerce')\n",
    "\n",
    "df.info()"
   ]
  },
  {
   "cell_type": "code",
   "execution_count": 4,
   "metadata": {
    "scrolled": false
   },
   "outputs": [
    {
     "data": {
      "text/html": [
       "<div>\n",
       "<style scoped>\n",
       "    .dataframe tbody tr th:only-of-type {\n",
       "        vertical-align: middle;\n",
       "    }\n",
       "\n",
       "    .dataframe tbody tr th {\n",
       "        vertical-align: top;\n",
       "    }\n",
       "\n",
       "    .dataframe thead th {\n",
       "        text-align: right;\n",
       "    }\n",
       "</style>\n",
       "<table border=\"1\" class=\"dataframe\">\n",
       "  <thead>\n",
       "    <tr style=\"text-align: right;\">\n",
       "      <th></th>\n",
       "      <th>Volume</th>\n",
       "      <th>Open</th>\n",
       "      <th>High</th>\n",
       "      <th>Low</th>\n",
       "      <th>Close</th>\n",
       "    </tr>\n",
       "  </thead>\n",
       "  <tbody>\n",
       "    <tr>\n",
       "      <th>0</th>\n",
       "      <td>75693830</td>\n",
       "      <td>37.35</td>\n",
       "      <td>37.42</td>\n",
       "      <td>35.86</td>\n",
       "      <td>36.76</td>\n",
       "    </tr>\n",
       "    <tr>\n",
       "      <th>1</th>\n",
       "      <td>84183060</td>\n",
       "      <td>36.30</td>\n",
       "      <td>37.40</td>\n",
       "      <td>34.59</td>\n",
       "      <td>37.39</td>\n",
       "    </tr>\n",
       "    <tr>\n",
       "      <th>2</th>\n",
       "      <td>89880940</td>\n",
       "      <td>35.76</td>\n",
       "      <td>35.77</td>\n",
       "      <td>33.61</td>\n",
       "      <td>33.94</td>\n",
       "    </tr>\n",
       "    <tr>\n",
       "      <th>3</th>\n",
       "      <td>83305370</td>\n",
       "      <td>35.73</td>\n",
       "      <td>36.31</td>\n",
       "      <td>34.61</td>\n",
       "      <td>34.99</td>\n",
       "    </tr>\n",
       "    <tr>\n",
       "      <th>4</th>\n",
       "      <td>106239800</td>\n",
       "      <td>33.75</td>\n",
       "      <td>35.38</td>\n",
       "      <td>30.93</td>\n",
       "      <td>34.14</td>\n",
       "    </tr>\n",
       "  </tbody>\n",
       "</table>\n",
       "</div>"
      ],
      "text/plain": [
       "      Volume   Open   High    Low  Close\n",
       "0   75693830  37.35  37.42  35.86  36.76\n",
       "1   84183060  36.30  37.40  34.59  37.39\n",
       "2   89880940  35.76  35.77  33.61  33.94\n",
       "3   83305370  35.73  36.31  34.61  34.99\n",
       "4  106239800  33.75  35.38  30.93  34.14"
      ]
     },
     "execution_count": 4,
     "metadata": {},
     "output_type": "execute_result"
    }
   ],
   "source": [
    "df.head(5)"
   ]
  },
  {
   "cell_type": "markdown",
   "metadata": {},
   "source": [
    "<h2 style=\"color:green\"> In below graph x axis is just a numeric range"
   ]
  },
  {
   "cell_type": "code",
   "execution_count": 5,
   "metadata": {},
   "outputs": [
    {
     "data": {
      "text/plain": [
       "<matplotlib.axes._subplots.AxesSubplot at 0xf393bb0>"
      ]
     },
     "execution_count": 5,
     "metadata": {},
     "output_type": "execute_result"
    },
    {
     "data": {
      "image/png": "[encoded data removed]",
      "text/plain": [
       "<Figure size 432x288 with 1 Axes>"
      ]
     },
     "metadata": {
      "needs_background": "light"
     },
     "output_type": "display_data"
    }
   ],
   "source": [
    "%matplotlib inline\n",
    "df.Close.plot()"
   ]
  },
  {
   "cell_type": "markdown",
   "metadata": {},
   "source": [
    "<h2 style=\"color:purple\"> In the Above DataFrame we dont have Date column so with the help of DateRange functiion we can create a daterange."
   ]
  },
  {
   "cell_type": "code",
   "execution_count": 6,
   "metadata": {},
   "outputs": [],
   "source": [
    "#freq 'B'means business day\n",
    "rng = pd.date_range(start=\"3/1/2020\",end=\"3/30/2020\",freq='B')"
   ]
  },
  {
   "cell_type": "code",
   "execution_count": 7,
   "metadata": {
    "scrolled": true
   },
   "outputs": [
    {
     "data": {
      "text/plain": [
       "DatetimeIndex(['2020-03-02', '2020-03-03', '2020-03-04', '2020-03-05',\n",
       "               '2020-03-06', '2020-03-09', '2020-03-10', '2020-03-11',\n",
       "               '2020-03-12', '2020-03-13', '2020-03-16', '2020-03-17',\n",
       "               '2020-03-18', '2020-03-19', '2020-03-20', '2020-03-23',\n",
       "               '2020-03-24', '2020-03-25', '2020-03-26', '2020-03-27',\n",
       "               '2020-03-30'],\n",
       "              dtype='datetime64[ns]', freq='B')"
      ]
     },
     "execution_count": 7,
     "metadata": {},
     "output_type": "execute_result"
    }
   ],
   "source": [
    "rng\n",
    "# now i have all these days now"
   ]
  },
  {
   "cell_type": "code",
   "execution_count": 17,
   "metadata": {
    "scrolled": true
   },
   "outputs": [
    {
     "data": {
      "text/html": [
       "<div>\n",
       "<style scoped>\n",
       "    .dataframe tbody tr th:only-of-type {\n",
       "        vertical-align: middle;\n",
       "    }\n",
       "\n",
       "    .dataframe tbody tr th {\n",
       "        vertical-align: top;\n",
       "    }\n",
       "\n",
       "    .dataframe thead th {\n",
       "        text-align: right;\n",
       "    }\n",
       "</style>\n",
       "<table border=\"1\" class=\"dataframe\">\n",
       "  <thead>\n",
       "    <tr style=\"text-align: right;\">\n",
       "      <th></th>\n",
       "      <th>Volume</th>\n",
       "      <th>Open</th>\n",
       "      <th>High</th>\n",
       "      <th>Low</th>\n",
       "      <th>Close</th>\n",
       "    </tr>\n",
       "  </thead>\n",
       "  <tbody>\n",
       "    <tr>\n",
       "      <th>2020-03-02</th>\n",
       "      <td>75693830</td>\n",
       "      <td>37.35</td>\n",
       "      <td>37.42</td>\n",
       "      <td>35.86</td>\n",
       "      <td>36.76</td>\n",
       "    </tr>\n",
       "    <tr>\n",
       "      <th>2020-03-03</th>\n",
       "      <td>84183060</td>\n",
       "      <td>36.30</td>\n",
       "      <td>37.40</td>\n",
       "      <td>34.59</td>\n",
       "      <td>37.39</td>\n",
       "    </tr>\n",
       "    <tr>\n",
       "      <th>2020-03-04</th>\n",
       "      <td>89880940</td>\n",
       "      <td>35.76</td>\n",
       "      <td>35.77</td>\n",
       "      <td>33.61</td>\n",
       "      <td>33.94</td>\n",
       "    </tr>\n",
       "    <tr>\n",
       "      <th>2020-03-05</th>\n",
       "      <td>83305370</td>\n",
       "      <td>35.73</td>\n",
       "      <td>36.31</td>\n",
       "      <td>34.61</td>\n",
       "      <td>34.99</td>\n",
       "    </tr>\n",
       "    <tr>\n",
       "      <th>2020-03-06</th>\n",
       "      <td>106239800</td>\n",
       "      <td>33.75</td>\n",
       "      <td>35.38</td>\n",
       "      <td>30.93</td>\n",
       "      <td>34.14</td>\n",
       "    </tr>\n",
       "  </tbody>\n",
       "</table>\n",
       "</div>"
      ],
      "text/plain": [
       "               Volume   Open   High    Low  Close\n",
       "2020-03-02   75693830  37.35  37.42  35.86  36.76\n",
       "2020-03-03   84183060  36.30  37.40  34.59  37.39\n",
       "2020-03-04   89880940  35.76  35.77  33.61  33.94\n",
       "2020-03-05   83305370  35.73  36.31  34.61  34.99\n",
       "2020-03-06  106239800  33.75  35.38  30.93  34.14"
      ]
     },
     "execution_count": 17,
     "metadata": {},
     "output_type": "execute_result"
    }
   ],
   "source": [
    "df.set_index(rng,inplace=True)\n",
    "df.head(5)"
   ]
  },
  {
   "cell_type": "markdown",
   "metadata": {},
   "source": [
    "<h2 style=\"color:green\"> Now BELOW x axis would be A DATE INDEX"
   ]
  },
  {
   "cell_type": "code",
   "execution_count": 19,
   "metadata": {
    "scrolled": true
   },
   "outputs": [
    {
     "data": {
      "text/plain": [
       "<matplotlib.axes._subplots.AxesSubplot at 0x11f6f130>"
      ]
     },
     "execution_count": 19,
     "metadata": {},
     "output_type": "execute_result"
    },
    {
     "data": {
      "image/png": "[encoded data removed]",
      "text/plain": [
       "<Figure size 432x288 with 1 Axes>"
      ]
     },
     "metadata": {
      "needs_background": "light"
     },
     "output_type": "display_data"
    }
   ],
   "source": [
    "%matplotlib inline\n",
    "df.Close.plot()"
   ]
  },
  {
   "cell_type": "markdown",
   "metadata": {},
   "source": [
    "<h2 style=\"color:navy\"> let say we dont know end date But we know how many date time index i want to generate / /"
   ]
  },
  {
   "cell_type": "code",
   "execution_count": 9,
   "metadata": {},
   "outputs": [
    {
     "data": {
      "text/plain": [
       "(21, 5)"
      ]
     },
     "execution_count": 9,
     "metadata": {},
     "output_type": "execute_result"
    }
   ],
   "source": [
    "df.shape"
   ]
  },
  {
   "cell_type": "code",
   "execution_count": 15,
   "metadata": {
    "scrolled": true
   },
   "outputs": [
    {
     "data": {
      "text/plain": [
       "DatetimeIndex(['2020-01-01', '2020-01-02', '2020-01-03', '2020-01-06',\n",
       "               '2020-01-07', '2020-01-08', '2020-01-09', '2020-01-10',\n",
       "               '2020-01-13', '2020-01-14', '2020-01-15', '2020-01-16',\n",
       "               '2020-01-17', '2020-01-20', '2020-01-21', '2020-01-22',\n",
       "               '2020-01-23', '2020-01-24', '2020-01-27', '2020-01-28',\n",
       "               '2020-01-29'],\n",
       "              dtype='datetime64[ns]', freq='B')"
      ]
     },
     "execution_count": 15,
     "metadata": {},
     "output_type": "execute_result"
    }
   ],
   "source": [
    "# periods = 21\n",
    "rng2 = pd.date_range(start=\"1/1/2020\",periods=21,freq='B')\n",
    "rng2"
   ]
  },
  {
   "cell_type": "code",
   "execution_count": 16,
   "metadata": {},
   "outputs": [
    {
     "data": {
      "text/plain": [
       "21"
      ]
     },
     "execution_count": 16,
     "metadata": {},
     "output_type": "execute_result"
    }
   ],
   "source": [
    "len(rng2)"
   ]
  },
  {
   "cell_type": "markdown",
   "metadata": {},
   "source": [
    "<h2 style=\"color:navy\"> Lets make a data set "
   ]
  },
  {
   "cell_type": "code",
   "execution_count": 10,
   "metadata": {},
   "outputs": [],
   "source": [
    "import numpy as np"
   ]
  },
  {
   "cell_type": "code",
   "execution_count": 18,
   "metadata": {},
   "outputs": [],
   "source": [
    "# how to generate random numbers in a range\n",
    "random_10=np.random.randint(1, 10, size=len(rng2))\n",
    "random_100=np.random.randint(100,999,len(rng2))\n",
    "random_1000=np.random.randint(1000,9999,len(rng2))"
   ]
  },
  {
   "cell_type": "code",
   "execution_count": 27,
   "metadata": {},
   "outputs": [
    {
     "data": {
      "text/plain": [
       "array([4, 2, 3, 6, 2, 8, 1, 8, 5, 7, 2, 5, 6, 8, 5, 1, 2, 3, 4, 6, 5])"
      ]
     },
     "execution_count": 27,
     "metadata": {},
     "output_type": "execute_result"
    }
   ],
   "source": [
    "random_10"
   ]
  },
  {
   "cell_type": "code",
   "execution_count": 23,
   "metadata": {},
   "outputs": [
    {
     "data": {
      "text/plain": [
       "21"
      ]
     },
     "execution_count": 23,
     "metadata": {},
     "output_type": "execute_result"
    }
   ],
   "source": [
    "len(random_100)"
   ]
  },
  {
   "cell_type": "code",
   "execution_count": 28,
   "metadata": {},
   "outputs": [],
   "source": [
    "kuch_bhi = pd.DataFrame({\"Date\":rng2,\n",
    "                        \"random_10\":random_10,\n",
    "                        \"random_100\":random_100,\n",
    "                        \"random_1000\":random_1000,})"
   ]
  },
  {
   "cell_type": "code",
   "execution_count": 29,
   "metadata": {},
   "outputs": [
    {
     "data": {
      "text/html": [
       "<div>\n",
       "<style scoped>\n",
       "    .dataframe tbody tr th:only-of-type {\n",
       "        vertical-align: middle;\n",
       "    }\n",
       "\n",
       "    .dataframe tbody tr th {\n",
       "        vertical-align: top;\n",
       "    }\n",
       "\n",
       "    .dataframe thead th {\n",
       "        text-align: right;\n",
       "    }\n",
       "</style>\n",
       "<table border=\"1\" class=\"dataframe\">\n",
       "  <thead>\n",
       "    <tr style=\"text-align: right;\">\n",
       "      <th></th>\n",
       "      <th>Date</th>\n",
       "      <th>random_10</th>\n",
       "      <th>random_100</th>\n",
       "      <th>random_1000</th>\n",
       "    </tr>\n",
       "  </thead>\n",
       "  <tbody>\n",
       "    <tr>\n",
       "      <th>0</th>\n",
       "      <td>2020-01-01</td>\n",
       "      <td>4</td>\n",
       "      <td>821</td>\n",
       "      <td>5642</td>\n",
       "    </tr>\n",
       "    <tr>\n",
       "      <th>1</th>\n",
       "      <td>2020-01-02</td>\n",
       "      <td>2</td>\n",
       "      <td>149</td>\n",
       "      <td>2772</td>\n",
       "    </tr>\n",
       "    <tr>\n",
       "      <th>2</th>\n",
       "      <td>2020-01-03</td>\n",
       "      <td>3</td>\n",
       "      <td>159</td>\n",
       "      <td>2267</td>\n",
       "    </tr>\n",
       "    <tr>\n",
       "      <th>3</th>\n",
       "      <td>2020-01-06</td>\n",
       "      <td>6</td>\n",
       "      <td>483</td>\n",
       "      <td>5540</td>\n",
       "    </tr>\n",
       "    <tr>\n",
       "      <th>4</th>\n",
       "      <td>2020-01-07</td>\n",
       "      <td>2</td>\n",
       "      <td>405</td>\n",
       "      <td>4535</td>\n",
       "    </tr>\n",
       "    <tr>\n",
       "      <th>5</th>\n",
       "      <td>2020-01-08</td>\n",
       "      <td>8</td>\n",
       "      <td>775</td>\n",
       "      <td>9018</td>\n",
       "    </tr>\n",
       "    <tr>\n",
       "      <th>6</th>\n",
       "      <td>2020-01-09</td>\n",
       "      <td>1</td>\n",
       "      <td>949</td>\n",
       "      <td>5959</td>\n",
       "    </tr>\n",
       "    <tr>\n",
       "      <th>7</th>\n",
       "      <td>2020-01-10</td>\n",
       "      <td>8</td>\n",
       "      <td>358</td>\n",
       "      <td>8298</td>\n",
       "    </tr>\n",
       "    <tr>\n",
       "      <th>8</th>\n",
       "      <td>2020-01-13</td>\n",
       "      <td>5</td>\n",
       "      <td>960</td>\n",
       "      <td>8558</td>\n",
       "    </tr>\n",
       "    <tr>\n",
       "      <th>9</th>\n",
       "      <td>2020-01-14</td>\n",
       "      <td>7</td>\n",
       "      <td>802</td>\n",
       "      <td>2084</td>\n",
       "    </tr>\n",
       "    <tr>\n",
       "      <th>10</th>\n",
       "      <td>2020-01-15</td>\n",
       "      <td>2</td>\n",
       "      <td>539</td>\n",
       "      <td>3562</td>\n",
       "    </tr>\n",
       "    <tr>\n",
       "      <th>11</th>\n",
       "      <td>2020-01-16</td>\n",
       "      <td>5</td>\n",
       "      <td>985</td>\n",
       "      <td>4010</td>\n",
       "    </tr>\n",
       "    <tr>\n",
       "      <th>12</th>\n",
       "      <td>2020-01-17</td>\n",
       "      <td>6</td>\n",
       "      <td>615</td>\n",
       "      <td>5045</td>\n",
       "    </tr>\n",
       "    <tr>\n",
       "      <th>13</th>\n",
       "      <td>2020-01-20</td>\n",
       "      <td>8</td>\n",
       "      <td>898</td>\n",
       "      <td>7244</td>\n",
       "    </tr>\n",
       "    <tr>\n",
       "      <th>14</th>\n",
       "      <td>2020-01-21</td>\n",
       "      <td>5</td>\n",
       "      <td>777</td>\n",
       "      <td>2830</td>\n",
       "    </tr>\n",
       "    <tr>\n",
       "      <th>15</th>\n",
       "      <td>2020-01-22</td>\n",
       "      <td>1</td>\n",
       "      <td>913</td>\n",
       "      <td>1958</td>\n",
       "    </tr>\n",
       "    <tr>\n",
       "      <th>16</th>\n",
       "      <td>2020-01-23</td>\n",
       "      <td>2</td>\n",
       "      <td>764</td>\n",
       "      <td>8884</td>\n",
       "    </tr>\n",
       "    <tr>\n",
       "      <th>17</th>\n",
       "      <td>2020-01-24</td>\n",
       "      <td>3</td>\n",
       "      <td>764</td>\n",
       "      <td>2062</td>\n",
       "    </tr>\n",
       "    <tr>\n",
       "      <th>18</th>\n",
       "      <td>2020-01-27</td>\n",
       "      <td>4</td>\n",
       "      <td>937</td>\n",
       "      <td>3332</td>\n",
       "    </tr>\n",
       "    <tr>\n",
       "      <th>19</th>\n",
       "      <td>2020-01-28</td>\n",
       "      <td>6</td>\n",
       "      <td>432</td>\n",
       "      <td>9897</td>\n",
       "    </tr>\n",
       "    <tr>\n",
       "      <th>20</th>\n",
       "      <td>2020-01-29</td>\n",
       "      <td>5</td>\n",
       "      <td>330</td>\n",
       "      <td>9070</td>\n",
       "    </tr>\n",
       "  </tbody>\n",
       "</table>\n",
       "</div>"
      ],
      "text/plain": [
       "         Date  random_10  random_100  random_1000\n",
       "0  2020-01-01          4         821         5642\n",
       "1  2020-01-02          2         149         2772\n",
       "2  2020-01-03          3         159         2267\n",
       "3  2020-01-06          6         483         5540\n",
       "4  2020-01-07          2         405         4535\n",
       "5  2020-01-08          8         775         9018\n",
       "6  2020-01-09          1         949         5959\n",
       "7  2020-01-10          8         358         8298\n",
       "8  2020-01-13          5         960         8558\n",
       "9  2020-01-14          7         802         2084\n",
       "10 2020-01-15          2         539         3562\n",
       "11 2020-01-16          5         985         4010\n",
       "12 2020-01-17          6         615         5045\n",
       "13 2020-01-20          8         898         7244\n",
       "14 2020-01-21          5         777         2830\n",
       "15 2020-01-22          1         913         1958\n",
       "16 2020-01-23          2         764         8884\n",
       "17 2020-01-24          3         764         2062\n",
       "18 2020-01-27          4         937         3332\n",
       "19 2020-01-28          6         432         9897\n",
       "20 2020-01-29          5         330         9070"
      ]
     },
     "execution_count": 29,
     "metadata": {},
     "output_type": "execute_result"
    }
   ],
   "source": [
    "kuch_bhi"
   ]
  },
  {
   "cell_type": "code",
   "execution_count": null,
   "metadata": {},
   "outputs": [],
   "source": []
  }
 ],
 "metadata": {
  "kernelspec": {
   "display_name": "Python 3",
   "language": "python",
   "name": "python3"
  },
  "language_info": {
   "codemirror_mode": {
    "name": "ipython",
    "version": 3
   },
   "file_extension": ".py",
   "mimetype": "text/x-python",
   "name": "python",
   "nbconvert_exporter": "python",
   "pygments_lexer": "ipython3",
   "version": "3.8.3rc1"
  }
 },
 "nbformat": 4,
 "nbformat_minor": 4
}
