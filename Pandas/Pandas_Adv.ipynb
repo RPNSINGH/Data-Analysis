{
 "cells": [
  {
   "cell_type": "code",
   "execution_count": null,
   "id": "66022639",
   "metadata": {},
   "outputs": [],
   "source": [
    "import pandas as pd"
   ]
  },
  {
   "cell_type": "code",
   "execution_count": null,
   "id": "44cd4586",
   "metadata": {
    "scrolled": true
   },
   "outputs": [],
   "source": [
    "df=pd.DataFrame({\n",
    "    'Serial_No':[1,2,3,4,5,6,7,8,9,10],\n",
    "    'Day':['1/1/2021','####','3/1/2021','4/1/2021','5/1/2021','6/1/2021','####','8/1/2021','9/1/2021' ,'10/1/2021'],\n",
    "    'Whether':['Rainy','....','Snow','Rainy','Sunny','Cloudy','Cloud&Sunny','....','Snow','Hot'],\n",
    "    'Temp':[33,34,43,32,23,31,56,44,40,50],\n",
    "    'Wind':[3,5,7,1,2,6,8,9,6,2]\n",
    "})\n",
    "df.head(2)"
   ]
  },
  {
   "cell_type": "code",
   "execution_count": null,
   "id": "518824c4",
   "metadata": {
    "scrolled": true
   },
   "outputs": [],
   "source": [
    "df['Serial_No']"
   ]
  },
  {
   "cell_type": "code",
   "execution_count": null,
   "id": "c630bc8f",
   "metadata": {
    "scrolled": true
   },
   "outputs": [],
   "source": [
    "df[['Serial_No','Temp']]"
   ]
  },
  {
   "cell_type": "code",
   "execution_count": null,
   "id": "499f6bf0",
   "metadata": {},
   "outputs": [],
   "source": [
    "type(df[['Serial_No','Temp']])"
   ]
  },
  {
   "cell_type": "code",
   "execution_count": null,
   "id": "21351d6e",
   "metadata": {},
   "outputs": [],
   "source": [
    "type(df['Serial_No'])"
   ]
  },
  {
   "cell_type": "code",
   "execution_count": null,
   "id": "84f7e9cd",
   "metadata": {},
   "outputs": [],
   "source": [
    "df"
   ]
  },
  {
   "cell_type": "code",
   "execution_count": null,
   "id": "e1e78e9a",
   "metadata": {},
   "outputs": [],
   "source": [
    "df.to_csv(\"Weather\")"
   ]
  },
  {
   "cell_type": "code",
   "execution_count": null,
   "id": "7be11e45",
   "metadata": {},
   "outputs": [],
   "source": [
    "df0 = pd.read_csv(\"Weather\")\n",
    "df0"
   ]
  },
  {
   "cell_type": "code",
   "execution_count": null,
   "id": "5683dad2",
   "metadata": {},
   "outputs": [],
   "source": [
    "df.to_csv(\"Weather1\",sep = '#')"
   ]
  },
  {
   "cell_type": "code",
   "execution_count": null,
   "id": "00367bb8",
   "metadata": {
    "scrolled": true
   },
   "outputs": [],
   "source": [
    "df1 = pd.read_csv(\"Weather1\")\n",
    "df1"
   ]
  },
  {
   "cell_type": "code",
   "execution_count": null,
   "id": "2b6add8f",
   "metadata": {},
   "outputs": [],
   "source": [
    "df11 = pd.read_csv(\"Weather1\",sep=\"#\")\n",
    "df11"
   ]
  },
  {
   "cell_type": "code",
   "execution_count": null,
   "id": "482d19f1",
   "metadata": {},
   "outputs": [],
   "source": [
    "df.to_csv(\"Weather2\",index=False)"
   ]
  },
  {
   "cell_type": "code",
   "execution_count": null,
   "id": "40378408",
   "metadata": {},
   "outputs": [],
   "source": [
    "df.to_csv(\"Weather3\",header=False,)"
   ]
  },
  {
   "cell_type": "code",
   "execution_count": null,
   "id": "90023b62",
   "metadata": {},
   "outputs": [],
   "source": [
    "df3 = pd.read_csv(\"Weather3\",header=None)\n",
    "df3"
   ]
  },
  {
   "cell_type": "code",
   "execution_count": null,
   "id": "97c6a819",
   "metadata": {},
   "outputs": [],
   "source": [
    "df.head(5)"
   ]
  },
  {
   "cell_type": "code",
   "execution_count": null,
   "id": "dc851cba",
   "metadata": {},
   "outputs": [],
   "source": [
    "df  = pd.read_csv(\"Weather2\")\n",
    "df.head(4)"
   ]
  },
  {
   "cell_type": "code",
   "execution_count": null,
   "id": "92ffc3f4",
   "metadata": {},
   "outputs": [],
   "source": [
    "df  = pd.read_csv(\"Weather2\",names=['Index','Date','Report','Tempreture','Wind_speed'])\n",
    "df.head(4)"
   ]
  },
  {
   "cell_type": "code",
   "execution_count": null,
   "id": "39e9d751",
   "metadata": {},
   "outputs": [],
   "source": [
    "df1 = pd.read_csv(\"Weather2\",skiprows=[4,6])\n",
    "df1"
   ]
  },
  {
   "cell_type": "code",
   "execution_count": null,
   "id": "67df7a3e",
   "metadata": {},
   "outputs": [],
   "source": [
    "# Remove all odd indexes \n",
    "# "
   ]
  },
  {
   "cell_type": "code",
   "execution_count": null,
   "id": "c11a40c7",
   "metadata": {},
   "outputs": [],
   "source": [
    "df.info()"
   ]
  },
  {
   "cell_type": "code",
   "execution_count": null,
   "id": "7a0cf1d3",
   "metadata": {},
   "outputs": [],
   "source": [
    "df.isnull().sum()"
   ]
  },
  {
   "cell_type": "code",
   "execution_count": null,
   "id": "3b38ca16",
   "metadata": {},
   "outputs": [],
   "source": [
    "df['Day'].unique()"
   ]
  },
  {
   "cell_type": "code",
   "execution_count": null,
   "id": "47af1afa",
   "metadata": {
    "scrolled": true
   },
   "outputs": [],
   "source": [
    "df"
   ]
  },
  {
   "cell_type": "code",
   "execution_count": null,
   "id": "02a6aa9e",
   "metadata": {},
   "outputs": [],
   "source": [
    "df['Whether'].unique()"
   ]
  },
  {
   "cell_type": "code",
   "execution_count": null,
   "id": "104714df",
   "metadata": {},
   "outputs": [],
   "source": [
    "df1 = pd.read_csv('Weather2',na_values=['####','....'])\n",
    "df1"
   ]
  },
  {
   "cell_type": "code",
   "execution_count": null,
   "id": "2b9b34e1",
   "metadata": {},
   "outputs": [],
   "source": [
    "df1 = pd.read_csv('Weather2',na_values=['Rainy'])\n",
    "df1"
   ]
  },
  {
   "cell_type": "code",
   "execution_count": null,
   "id": "fb35e18b",
   "metadata": {
    "scrolled": true
   },
   "outputs": [],
   "source": [
    "df1.describe()"
   ]
  },
  {
   "cell_type": "code",
   "execution_count": 1,
   "id": "92f1666e",
   "metadata": {},
   "outputs": [],
   "source": [
    "import pandas as pd"
   ]
  },
  {
   "cell_type": "code",
   "execution_count": 6,
   "id": "ed64ffa6",
   "metadata": {},
   "outputs": [
    {
     "data": {
      "text/html": [
       "<div>\n",
       "<style scoped>\n",
       "    .dataframe tbody tr th:only-of-type {\n",
       "        vertical-align: middle;\n",
       "    }\n",
       "\n",
       "    .dataframe tbody tr th {\n",
       "        vertical-align: top;\n",
       "    }\n",
       "\n",
       "    .dataframe thead th {\n",
       "        text-align: right;\n",
       "    }\n",
       "</style>\n",
       "<table border=\"1\" class=\"dataframe\">\n",
       "  <thead>\n",
       "    <tr style=\"text-align: right;\">\n",
       "      <th></th>\n",
       "      <th>Col</th>\n",
       "    </tr>\n",
       "  </thead>\n",
       "  <tbody>\n",
       "    <tr>\n",
       "      <th>0</th>\n",
       "      <td>1</td>\n",
       "    </tr>\n",
       "    <tr>\n",
       "      <th>1</th>\n",
       "      <td>1</td>\n",
       "    </tr>\n",
       "    <tr>\n",
       "      <th>2</th>\n",
       "      <td>1</td>\n",
       "    </tr>\n",
       "    <tr>\n",
       "      <th>3</th>\n",
       "      <td>2</td>\n",
       "    </tr>\n",
       "    <tr>\n",
       "      <th>4</th>\n",
       "      <td>2</td>\n",
       "    </tr>\n",
       "    <tr>\n",
       "      <th>5</th>\n",
       "      <td>3</td>\n",
       "    </tr>\n",
       "    <tr>\n",
       "      <th>6</th>\n",
       "      <td>4</td>\n",
       "    </tr>\n",
       "    <tr>\n",
       "      <th>7</th>\n",
       "      <td>8</td>\n",
       "    </tr>\n",
       "  </tbody>\n",
       "</table>\n",
       "</div>"
      ],
      "text/plain": [
       "   Col\n",
       "0    1\n",
       "1    1\n",
       "2    1\n",
       "3    2\n",
       "4    2\n",
       "5    3\n",
       "6    4\n",
       "7    8"
      ]
     },
     "execution_count": 6,
     "metadata": {},
     "output_type": "execute_result"
    }
   ],
   "source": [
    "df = pd.DataFrame({\"Col\":[1,1,1,2,2,3,4,8]})\n",
    "df"
   ]
  },
  {
   "cell_type": "code",
   "execution_count": null,
   "id": "a55bf92b",
   "metadata": {},
   "outputs": [],
   "source": [
    "1,1,1,2,2,3,4,8"
   ]
  },
  {
   "cell_type": "code",
   "execution_count": 7,
   "id": "ab8b1e82",
   "metadata": {},
   "outputs": [
    {
     "data": {
      "text/html": [
       "<div>\n",
       "<style scoped>\n",
       "    .dataframe tbody tr th:only-of-type {\n",
       "        vertical-align: middle;\n",
       "    }\n",
       "\n",
       "    .dataframe tbody tr th {\n",
       "        vertical-align: top;\n",
       "    }\n",
       "\n",
       "    .dataframe thead th {\n",
       "        text-align: right;\n",
       "    }\n",
       "</style>\n",
       "<table border=\"1\" class=\"dataframe\">\n",
       "  <thead>\n",
       "    <tr style=\"text-align: right;\">\n",
       "      <th></th>\n",
       "      <th>Col</th>\n",
       "    </tr>\n",
       "  </thead>\n",
       "  <tbody>\n",
       "    <tr>\n",
       "      <th>count</th>\n",
       "      <td>8.00000</td>\n",
       "    </tr>\n",
       "    <tr>\n",
       "      <th>mean</th>\n",
       "      <td>2.75000</td>\n",
       "    </tr>\n",
       "    <tr>\n",
       "      <th>std</th>\n",
       "      <td>2.37547</td>\n",
       "    </tr>\n",
       "    <tr>\n",
       "      <th>min</th>\n",
       "      <td>1.00000</td>\n",
       "    </tr>\n",
       "    <tr>\n",
       "      <th>25%</th>\n",
       "      <td>1.00000</td>\n",
       "    </tr>\n",
       "    <tr>\n",
       "      <th>50%</th>\n",
       "      <td>2.00000</td>\n",
       "    </tr>\n",
       "    <tr>\n",
       "      <th>75%</th>\n",
       "      <td>3.25000</td>\n",
       "    </tr>\n",
       "    <tr>\n",
       "      <th>max</th>\n",
       "      <td>8.00000</td>\n",
       "    </tr>\n",
       "  </tbody>\n",
       "</table>\n",
       "</div>"
      ],
      "text/plain": [
       "           Col\n",
       "count  8.00000\n",
       "mean   2.75000\n",
       "std    2.37547\n",
       "min    1.00000\n",
       "25%    1.00000\n",
       "50%    2.00000\n",
       "75%    3.25000\n",
       "max    8.00000"
      ]
     },
     "execution_count": 7,
     "metadata": {},
     "output_type": "execute_result"
    }
   ],
   "source": [
    "df.describe()"
   ]
  },
  {
   "cell_type": "code",
   "execution_count": null,
   "id": "dd2a2415",
   "metadata": {},
   "outputs": [],
   "source": []
  }
 ],
 "metadata": {
  "kernelspec": {
   "display_name": "Python 3",
   "language": "python",
   "name": "python3"
  },
  "language_info": {
   "codemirror_mode": {
    "name": "ipython",
    "version": 3
   },
   "file_extension": ".py",
   "mimetype": "text/x-python",
   "name": "python",
   "nbconvert_exporter": "python",
   "pygments_lexer": "ipython3",
   "version": "3.9.5"
  }
 },
 "nbformat": 4,
 "nbformat_minor": 5
}
