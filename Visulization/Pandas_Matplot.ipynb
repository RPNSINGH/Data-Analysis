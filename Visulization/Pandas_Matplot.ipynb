{
 "cells": [
  {
   "cell_type": "markdown",
   "metadata": {},
   "source": [
    "# Booleans.\n",
    "* Python boolean type is one of the built-in data types provided by Python, which are defined by the True or False keywords.\n",
    "* Generally, booleans values are returned as a result of some sort of comparison.  "
   ]
  },
  {
   "cell_type": "code",
   "execution_count": null,
   "metadata": {},
   "outputs": [],
   "source": [
    "a = True\n",
    "print(type(a))\n",
    "  \n",
    "b = False\n",
    "print(type(b))"
   ]
  },
  {
   "cell_type": "code",
   "execution_count": null,
   "metadata": {},
   "outputs": [],
   "source": [
    "# Declaring variables \n",
    "a = 10\n",
    "b = 20\n",
    "  \n",
    "# Comparing variables \n",
    "print(a == b)"
   ]
  },
  {
   "cell_type": "code",
   "execution_count": null,
   "metadata": {},
   "outputs": [],
   "source": [
    "var1 = 0\n",
    "print(bool(var1)) # F\n",
    "  \n",
    "var2 = 1\n",
    "print(bool(var2)) #T\n",
    "  \n",
    "var3 = -9.7\n",
    "print(bool(var3))# T\n"
   ]
  },
  {
   "cell_type": "code",
   "execution_count": null,
   "metadata": {},
   "outputs": [],
   "source": [
    "bool(0.007)"
   ]
  },
  {
   "cell_type": "code",
   "execution_count": null,
   "metadata": {
    "scrolled": true
   },
   "outputs": [],
   "source": [
    "print(bool(\"Hello\"))\n",
    "\n",
    "print(bool(15))"
   ]
  },
  {
   "cell_type": "code",
   "execution_count": null,
   "metadata": {
    "scrolled": true
   },
   "outputs": [],
   "source": [
    "import numpy as np\n",
    "print(bool(np.nan))# Important"
   ]
  },
  {
   "cell_type": "code",
   "execution_count": null,
   "metadata": {},
   "outputs": [],
   "source": [
    "b = np.nan\n",
    "print(b)"
   ]
  },
  {
   "cell_type": "code",
   "execution_count": null,
   "metadata": {},
   "outputs": [],
   "source": [
    "print(bool(None))"
   ]
  },
  {
   "cell_type": "code",
   "execution_count": null,
   "metadata": {},
   "outputs": [],
   "source": [
    "print((bool(False)))\n",
    "\n",
    "print(bool(None))\n",
    "\n",
    "print(bool(0))\n",
    "\n",
    "print(bool(\"\"))# \n",
    "\n",
    "print(bool(()))# \n",
    "print(bool([]))# \n",
    "\n",
    "print(bool({}))# "
   ]
  },
  {
   "cell_type": "code",
   "execution_count": null,
   "metadata": {},
   "outputs": [],
   "source": [
    "print(bool(\"  \"))# \n",
    "\n",
    "print(bool(( )))# \n",
    "print(bool([ ]))# \n",
    "\n",
    "print(bool({ }))# "
   ]
  },
  {
   "cell_type": "code",
   "execution_count": null,
   "metadata": {},
   "outputs": [],
   "source": [
    "print(bool((0)))# F  :I m p\n",
    "print(bool([0]))# T\n",
    "\n",
    "print(bool({0}))# T"
   ]
  },
  {
   "cell_type": "code",
   "execution_count": null,
   "metadata": {},
   "outputs": [],
   "source": [
    "b = ('A')\n",
    "len(b)"
   ]
  },
  {
   "cell_type": "code",
   "execution_count": null,
   "metadata": {
    "scrolled": true
   },
   "outputs": [],
   "source": [
    "b = (11111111111111111111111)\n",
    "len(b)"
   ]
  },
  {
   "cell_type": "code",
   "execution_count": null,
   "metadata": {},
   "outputs": [],
   "source": [
    "b = (1.12)\n",
    "len(b)"
   ]
  },
  {
   "cell_type": "code",
   "execution_count": null,
   "metadata": {},
   "outputs": [],
   "source": [
    "b = (1,2)\n",
    "len(b)"
   ]
  },
  {
   "cell_type": "code",
   "execution_count": null,
   "metadata": {},
   "outputs": [],
   "source": [
    "b = (1,) # accha To ye , jaruri hai\n",
    "print(len(b))\n",
    "print(bool(b))"
   ]
  },
  {
   "cell_type": "code",
   "execution_count": null,
   "metadata": {},
   "outputs": [],
   "source": [
    "print(bool((0,0)))"
   ]
  },
  {
   "cell_type": "code",
   "execution_count": null,
   "metadata": {},
   "outputs": [],
   "source": [
    "print(None)"
   ]
  },
  {
   "cell_type": "markdown",
   "metadata": {},
   "source": [
    "# Boolean Operations\n",
    "* Boolean Operations are simple arithmetic of True and False values. These values can be manipulated by the use of boolean operators which include AND, Or, and NOT. Common boolean operations are –\n",
    "\n",
    "* or\n",
    "* and\n",
    "* not\n",
    "* == (equivalent)\n",
    "* != (not equivalent)\n"
   ]
  },
  {
   "cell_type": "code",
   "execution_count": null,
   "metadata": {},
   "outputs": [],
   "source": [
    "A = True\n",
    "B = False\n",
    "\n",
    "print(A or B) # \n",
    "\n",
    "print(A and B) \n",
    "\n",
    "print(not A) \n",
    "\n",
    "print(not B) \n",
    "\n",
    "print(A == B) \n",
    "\n",
    "print(A != B)\n"
   ]
  },
  {
   "cell_type": "code",
   "execution_count": null,
   "metadata": {
    "scrolled": true
   },
   "outputs": [],
   "source": [
    "import pandas as pd\n",
    "import numpy as np\n",
    "date=['1/1/2021','2/1/2021','3/1/2021','4/1/2021','5/1/2021','1/2/2021','2/2/2021','3/2/2021','4/2/2021','5/2/2021']\n",
    "wthr=[np.nan,'sunny','sunny','snowy','sunny','rsiny','rainy','snowy','sunny','sunny']\n",
    "temp=[23,32,np.nan,20,27,np.nan,30,22,25,31]\n",
    "wind=[4,5.4,7,3,np.nan,4.6,3.9,4.8,np.nan,6.3]\n",
    "poll=[380,np.nan,495,245,np.nan,312,478,np.nan,298,567]\n",
    "l=list(zip(date,wthr,temp,wind,poll))\n",
    "l\n",
    "rep1=pd.DataFrame(l)\n",
    "rep1"
   ]
  },
  {
   "cell_type": "code",
   "execution_count": null,
   "metadata": {},
   "outputs": [],
   "source": [
    "rep1.shape"
   ]
  },
  {
   "cell_type": "code",
   "execution_count": null,
   "metadata": {},
   "outputs": [],
   "source": [
    "rep1.columns = [\"Date\",\"Weather\",\"Temp\",\"Wind\",\"Aqi\"]\n",
    "rep1"
   ]
  },
  {
   "cell_type": "code",
   "execution_count": null,
   "metadata": {},
   "outputs": [],
   "source": [
    "rep1.head(3)"
   ]
  },
  {
   "cell_type": "code",
   "execution_count": null,
   "metadata": {
    "scrolled": true
   },
   "outputs": [],
   "source": [
    "rep1.info()"
   ]
  },
  {
   "cell_type": "code",
   "execution_count": null,
   "metadata": {},
   "outputs": [],
   "source": [
    "rep1.isnull().sum()"
   ]
  },
  {
   "cell_type": "code",
   "execution_count": null,
   "metadata": {},
   "outputs": [],
   "source": [
    "rep1['Weather'] = rep1['Weather'].fillna(method='bfill')"
   ]
  },
  {
   "cell_type": "code",
   "execution_count": null,
   "metadata": {},
   "outputs": [],
   "source": [
    "rep1['Weather']"
   ]
  },
  {
   "cell_type": "code",
   "execution_count": null,
   "metadata": {},
   "outputs": [],
   "source": [
    "rep1['Temp'].unique()"
   ]
  },
  {
   "cell_type": "code",
   "execution_count": null,
   "metadata": {},
   "outputs": [],
   "source": [
    "rep1['Temp'] = rep1['Temp'].fillna(method='bfill')\n",
    "rep1['Temp']"
   ]
  },
  {
   "cell_type": "code",
   "execution_count": null,
   "metadata": {},
   "outputs": [],
   "source": [
    "rep1['Wind'].mean()"
   ]
  },
  {
   "cell_type": "code",
   "execution_count": null,
   "metadata": {},
   "outputs": [],
   "source": [
    "rep1['Wind'] = rep1['Wind'].fillna(rep1['Wind'].mean())\n",
    "rep1"
   ]
  },
  {
   "cell_type": "code",
   "execution_count": null,
   "metadata": {},
   "outputs": [],
   "source": [
    "rep1['Aqi']= rep1['Aqi'].interpolate()"
   ]
  },
  {
   "cell_type": "code",
   "execution_count": null,
   "metadata": {},
   "outputs": [],
   "source": [
    "rep1['Aqi']"
   ]
  },
  {
   "cell_type": "code",
   "execution_count": null,
   "metadata": {
    "scrolled": true
   },
   "outputs": [],
   "source": [
    "rep1.info()"
   ]
  },
  {
   "cell_type": "code",
   "execution_count": null,
   "metadata": {
    "scrolled": true
   },
   "outputs": [],
   "source": [
    "rep1.isnull().sum()"
   ]
  },
  {
   "cell_type": "code",
   "execution_count": null,
   "metadata": {},
   "outputs": [],
   "source": [
    "rep1"
   ]
  },
  {
   "cell_type": "code",
   "execution_count": null,
   "metadata": {},
   "outputs": [],
   "source": [
    "#rep1.Temp # or rep1['Temp']\n",
    "plt.scatter(rep1.Temp,rep1.Wind)"
   ]
  },
  {
   "cell_type": "markdown",
   "metadata": {},
   "source": [
    "# Matplotlib"
   ]
  },
  {
   "cell_type": "markdown",
   "metadata": {},
   "source": [
    "# Matplotlib is a plotting library for the Python programming language and its numerical mathematics extension NumPy"
   ]
  },
  {
   "cell_type": "code",
   "execution_count": 2,
   "metadata": {},
   "outputs": [],
   "source": [
    "import matplotlib.pyplot as plt"
   ]
  },
  {
   "cell_type": "code",
   "execution_count": 3,
   "metadata": {},
   "outputs": [],
   "source": [
    "days = [1,2,3,4,5,6,7]\n",
    "max_temp = [45,47,49,51,50,48,42]\n",
    "min_temp = [33,40,42,41,43,37,35]\n",
    "avg_temp = [45,47,46,41,43,39,40]"
   ]
  },
  {
   "cell_type": "code",
   "execution_count": null,
   "metadata": {},
   "outputs": [],
   "source": [
    "#(x-axis,y_axis)\n",
    "plt.plot(days,max_temp,'g--')\n",
    "#plt.scatter(days,max_temp,c='r',marker='+')"
   ]
  },
  {
   "cell_type": "code",
   "execution_count": null,
   "metadata": {},
   "outputs": [],
   "source": [
    "plt.plot(days,min_temp)\n"
   ]
  },
  {
   "cell_type": "code",
   "execution_count": null,
   "metadata": {},
   "outputs": [],
   "source": [
    "plt.plot(days,avg_temp)"
   ]
  },
  {
   "cell_type": "code",
   "execution_count": 6,
   "metadata": {
    "scrolled": true
   },
   "outputs": [
    {
     "data": {
      "image/png": "[encoded data removed]",
      "text/plain": [
       "<Figure size 432x288 with 1 Axes>"
      ]
     },
     "metadata": {
      "needs_background": "light"
     },
     "output_type": "display_data"
    }
   ],
   "source": [
    "plt.plot(days,max_temp, linewidth=5,label='max_temp')\n",
    "plt.plot(days,min_temp,'g--',linewidth=5,label='min_temp')\n",
    "plt.plot(days,avg_temp,linewidth=5,label='avg_temp')\n",
    "plt.xlabel('Days')\n",
    "plt.ylabel('Temp')\n",
    "plt.title('Weather')\n",
    "plt.legend()\n",
    "plt.grid()\n",
    "#'upper left', 'upper right', 'lower left', 'lower right'"
   ]
  },
  {
   "cell_type": "code",
   "execution_count": 7,
   "metadata": {
    "scrolled": true
   },
   "outputs": [
    {
     "data": {
      "text/plain": [
       "<matplotlib.collections.PathCollection at 0x20713c869d0>"
      ]
     },
     "execution_count": 7,
     "metadata": {},
     "output_type": "execute_result"
    },
    {
     "data": {
      "image/png": "[encoded data removed]",
      "text/plain": [
       "<Figure size 432x288 with 1 Axes>"
      ]
     },
     "metadata": {
      "needs_background": "light"
     },
     "output_type": "display_data"
    }
   ],
   "source": [
    "plt.scatter(days,max_temp)"
   ]
  },
  {
   "cell_type": "code",
   "execution_count": 9,
   "metadata": {},
   "outputs": [
    {
     "data": {
      "image/png": "[encoded data removed]",
      "text/plain": [
       "<Figure size 432x288 with 1 Axes>"
      ]
     },
     "metadata": {
      "needs_background": "light"
     },
     "output_type": "display_data"
    }
   ],
   "source": [
    "plt.scatter(days,max_temp,c='red',label='max_temp')\n",
    "plt.plot(days,max_temp,linewidth=2)\n",
    "\n",
    "plt.xlabel('Days')\n",
    "plt.ylabel('Temp')\n",
    "plt.title('Weather')\n",
    "plt.legend()\n",
    "plt.grid()"
   ]
  },
  {
   "cell_type": "code",
   "execution_count": null,
   "metadata": {},
   "outputs": [],
   "source": []
  },
  {
   "cell_type": "markdown",
   "metadata": {},
   "source": [
    "# Bar Charts"
   ]
  },
  {
   "cell_type": "code",
   "execution_count": 10,
   "metadata": {},
   "outputs": [],
   "source": [
    "cmp = ['GOOGLE','AMZN','FB','TESLA']\n",
    "revenue = [90,120,79,40]\n",
    "profit = [38,2,32,10]"
   ]
  },
  {
   "cell_type": "code",
   "execution_count": 11,
   "metadata": {},
   "outputs": [
    {
     "data": {
      "text/plain": [
       "Text(0.5, 1.0, 'US_stocks')"
      ]
     },
     "execution_count": 11,
     "metadata": {},
     "output_type": "execute_result"
    },
    {
     "data": {
      "image/png": "[encoded data removed]",
      "text/plain": [
       "<Figure size 432x288 with 1 Axes>"
      ]
     },
     "metadata": {
      "needs_background": "light"
     },
     "output_type": "display_data"
    }
   ],
   "source": [
    "plt.bar(cmp,revenue)\n",
    "plt.xlabel('cmp')\n",
    "plt.ylabel('revenue')\n",
    "plt.title('US_stocks')"
   ]
  },
  {
   "cell_type": "code",
   "execution_count": 12,
   "metadata": {},
   "outputs": [
    {
     "data": {
      "text/plain": [
       "Text(0.5, 1.0, 'US_stocks')"
      ]
     },
     "execution_count": 12,
     "metadata": {},
     "output_type": "execute_result"
    },
    {
     "data": {
      "image/png": "[encoded data removed]",
      "text/plain": [
       "<Figure size 432x288 with 1 Axes>"
      ]
     },
     "metadata": {
      "needs_background": "light"
     },
     "output_type": "display_data"
    }
   ],
   "source": [
    "plt.bar(cmp,profit)\n",
    "plt.xlabel('cmp')\n",
    "plt.ylabel('revenue')\n",
    "plt.title('US_stocks')"
   ]
  },
  {
   "cell_type": "code",
   "execution_count": 13,
   "metadata": {},
   "outputs": [
    {
     "data": {
      "text/plain": [
       "<matplotlib.legend.Legend at 0x20713e72040>"
      ]
     },
     "execution_count": 13,
     "metadata": {},
     "output_type": "execute_result"
    },
    {
     "data": {
      "image/png": "[encoded data removed]",
      "text/plain": [
       "<Figure size 432x288 with 1 Axes>"
      ]
     },
     "metadata": {
      "needs_background": "light"
     },
     "output_type": "display_data"
    }
   ],
   "source": [
    "plt.bar(cmp,revenue,label='Revenue',color='black')\n",
    "plt.bar(cmp,profit,label = 'Profit')\n",
    "plt.xlabel('cmp')\n",
    "plt.ylabel('revenue')\n",
    "plt.title('US_stocks')\n",
    "\n",
    "plt.legend()"
   ]
  },
  {
   "cell_type": "code",
   "execution_count": 14,
   "metadata": {},
   "outputs": [
    {
     "data": {
      "text/plain": [
       "<matplotlib.legend.Legend at 0x20713f67220>"
      ]
     },
     "execution_count": 14,
     "metadata": {},
     "output_type": "execute_result"
    },
    {
     "data": {
      "image/png": "[encoded data removed]",
      "text/plain": [
       "<Figure size 432x288 with 1 Axes>"
      ]
     },
     "metadata": {
      "needs_background": "light"
     },
     "output_type": "display_data"
    }
   ],
   "source": [
    "plt.bar(cmp,revenue,width=0.4,label='Revenue',color='black')\n",
    "plt.bar(cmp,profit,width=0.4,label = 'Profit')\n",
    "plt.xlabel('cmp')\n",
    "plt.ylabel('revenue')\n",
    "plt.title('US_stocks')\n",
    "\n",
    "plt.legend()"
   ]
  },
  {
   "cell_type": "markdown",
   "metadata": {},
   "source": [
    "# Histograms\n",
    "task:google it"
   ]
  },
  {
   "cell_type": "code",
   "execution_count": 16,
   "metadata": {},
   "outputs": [],
   "source": [
    "patient = ['A','B','C','D','E','F','G','H','I','J','K','L','M']\n",
    "blood_sugar = [113,85,90,150,145,89,115,180,93,140,110,120]"
   ]
  },
  {
   "cell_type": "raw",
   "metadata": {},
   "source": [
    "80-100 -> Normal\n",
    "100-130 - > Pre_Diabetic\n",
    "130 above -> Diabetic\n",
    "1>How many Patients are Normal ?\n",
    "2>How many Patients are Pre-Diabetic ?\n",
    "3>How many Patients are Diabetic ?"
   ]
  },
  {
   "cell_type": "code",
   "execution_count": 18,
   "metadata": {},
   "outputs": [
    {
     "data": {
      "text/plain": [
       "(array([4., 0., 2., 2., 0., 1., 2., 0., 0., 1.]),\n",
       " array([ 85. ,  94.5, 104. , 113.5, 123. , 132.5, 142. , 151.5, 161. ,\n",
       "        170.5, 180. ]),\n",
       " <BarContainer object of 10 artists>)"
      ]
     },
     "execution_count": 18,
     "metadata": {},
     "output_type": "execute_result"
    },
    {
     "data": {
      "image/png": "[encoded data removed]",
      "text/plain": [
       "<Figure size 432x288 with 1 Axes>"
      ]
     },
     "metadata": {
      "needs_background": "light"
     },
     "output_type": "display_data"
    }
   ],
   "source": [
    "plt.hist(blood_sugar)"
   ]
  },
  {
   "cell_type": "code",
   "execution_count": 20,
   "metadata": {},
   "outputs": [
    {
     "data": {
      "text/plain": [
       "(array([7., 3., 2.]),\n",
       " array([ 85.        , 116.66666667, 148.33333333, 180.        ]),\n",
       " <BarContainer object of 3 artists>)"
      ]
     },
     "execution_count": 20,
     "metadata": {},
     "output_type": "execute_result"
    },
    {
     "data": {
      "image/png": "[encoded data removed]",
      "text/plain": [
       "<Figure size 432x288 with 1 Axes>"
      ]
     },
     "metadata": {
      "needs_background": "light"
     },
     "output_type": "display_data"
    }
   ],
   "source": [
    "plt.hist(blood_sugar,bins=3)# bins means classes or interval or bucket"
   ]
  },
  {
   "cell_type": "code",
   "execution_count": null,
   "metadata": {},
   "outputs": [],
   "source": [
    "plt.hist(blood_sugar,bins=3,rwidth=0.95)"
   ]
  },
  {
   "cell_type": "code",
   "execution_count": 22,
   "metadata": {
    "scrolled": true
   },
   "outputs": [],
   "source": [
    "blood_sugar_mens = [113,85,90,150,145,89,115,180,93,140,110,120]\n",
    "blood_sugar_womens = [100,95,190,130,155,99,110,170,99,150,115,120]"
   ]
  },
  {
   "cell_type": "code",
   "execution_count": 23,
   "metadata": {},
   "outputs": [
    {
     "data": {
      "text/plain": [
       "(array([[4., 0., 3., 1., 0., 2., 1., 0., 0., 1.],\n",
       "        [1., 3., 2., 1., 1., 0., 2., 0., 1., 1.]]),\n",
       " array([ 85. ,  95.5, 106. , 116.5, 127. , 137.5, 148. , 158.5, 169. ,\n",
       "        179.5, 190. ]),\n",
       " <a list of 2 BarContainer objects>)"
      ]
     },
     "execution_count": 23,
     "metadata": {},
     "output_type": "execute_result"
    },
    {
     "data": {
      "image/png": "[encoded data removed]",
      "text/plain": [
       "<Figure size 432x288 with 1 Axes>"
      ]
     },
     "metadata": {
      "needs_background": "light"
     },
     "output_type": "display_data"
    }
   ],
   "source": [
    "plt.hist([blood_sugar_mens,blood_sugar_womens])"
   ]
  },
  {
   "cell_type": "code",
   "execution_count": 24,
   "metadata": {},
   "outputs": [
    {
     "data": {
      "text/plain": [
       "<matplotlib.legend.Legend at 0x20714057a90>"
      ]
     },
     "execution_count": 24,
     "metadata": {},
     "output_type": "execute_result"
    },
    {
     "data": {
      "image/png": "[encoded data removed]",
      "text/plain": [
       "<Figure size 432x288 with 1 Axes>"
      ]
     },
     "metadata": {
      "needs_background": "light"
     },
     "output_type": "display_data"
    }
   ],
   "source": [
    "plt.hist([blood_sugar_mens,blood_sugar_womens],color=['green','pink'],label=['Men','Women'])\n",
    "plt.legend()"
   ]
  },
  {
   "cell_type": "markdown",
   "metadata": {},
   "source": [
    "# Pie Chart"
   ]
  },
  {
   "cell_type": "code",
   "execution_count": 25,
   "metadata": {},
   "outputs": [],
   "source": [
    "\n",
    "revenue = [90,120,79,40]\n",
    "cmp = ['GOOGLE','AMZN','FB','TESLA']"
   ]
  },
  {
   "cell_type": "code",
   "execution_count": 27,
   "metadata": {},
   "outputs": [
    {
     "data": {
      "text/plain": [
       "([<matplotlib.patches.Wedge at 0x2071418e7f0>,\n",
       "  <matplotlib.patches.Wedge at 0x2071418ed30>,\n",
       "  <matplotlib.patches.Wedge at 0x207141a1250>,\n",
       "  <matplotlib.patches.Wedge at 0x207141a1730>],\n",
       " [Text(0.7181793869863029, 0.8331976764897863, 'GOOGLE'),\n",
       "  Text(-1.0580927239110525, 0.30073208609406726, 'AMZN'),\n",
       "  Text(0.05774444122462478, -1.0984833087068988, 'FB'),\n",
       "  Text(1.0207308633102339, -0.4100103714370462, 'TESLA')])"
      ]
     },
     "execution_count": 27,
     "metadata": {},
     "output_type": "execute_result"
    },
    {
     "data": {
      "image/png": "[encoded data removed]",
      "text/plain": [
       "<Figure size 432x288 with 1 Axes>"
      ]
     },
     "metadata": {},
     "output_type": "display_data"
    }
   ],
   "source": [
    "plt.pie(revenue,labels=cmp)"
   ]
  },
  {
   "cell_type": "code",
   "execution_count": 28,
   "metadata": {},
   "outputs": [
    {
     "data": {
      "text/plain": [
       "([<matplotlib.patches.Wedge at 0x207141e7430>,\n",
       "  <matplotlib.patches.Wedge at 0x207141e7bb0>,\n",
       "  <matplotlib.patches.Wedge at 0x207141f3310>,\n",
       "  <matplotlib.patches.Wedge at 0x207141f3a30>],\n",
       " [Text(1.0772690804794542, 1.2497965147346792, 'GOOGLE'),\n",
       "  Text(-1.5871390858665788, 0.45109812914110087, 'AMZN'),\n",
       "  Text(0.08661666183693717, -1.6477249630603483, 'FB'),\n",
       "  Text(1.531096294965351, -0.6150155571555693, 'TESLA')],\n",
       " [Text(0.5876013166251568, 0.6817071898552794, '27.4%'),\n",
       "  Text(-0.8657122286544974, 0.24605352498605498, '36.5%'),\n",
       "  Text(0.047245451911056634, -0.8987590707601898, '24.0%'),\n",
       "  Text(0.835143433617464, -0.33546303117576504, '12.2%')])"
      ]
     },
     "execution_count": 28,
     "metadata": {},
     "output_type": "execute_result"
    },
    {
     "data": {
      "image/png": "[encoded data removed]",
      "text/plain": [
       "<Figure size 432x288 with 1 Axes>"
      ]
     },
     "metadata": {},
     "output_type": "display_data"
    }
   ],
   "source": [
    "plt.pie(revenue,labels=cmp,radius=1.5,autopct='%0.1f%%')"
   ]
  },
  {
   "cell_type": "code",
   "execution_count": 31,
   "metadata": {},
   "outputs": [
    {
     "data": {
      "image/png": "[encoded data removed]",
      "text/plain": [
       "<Figure size 432x288 with 1 Axes>"
      ]
     },
     "metadata": {},
     "output_type": "display_data"
    }
   ],
   "source": [
    "plt.pie(revenue,labels=cmp,radius=5.0,autopct='%0.1f%%',explode=[0,0.1,0,0.2])\n",
    "plt.savefig(\"piechart2.pdf\",bbox_inches='tight',pad_inches=2,transparent=True)"
   ]
  },
  {
   "cell_type": "markdown",
   "metadata": {},
   "source": [
    "# how to save our figure in .png format"
   ]
  },
  {
   "cell_type": "code",
   "execution_count": 33,
   "metadata": {},
   "outputs": [
    {
     "data": {
      "text/plain": [
       "<Figure size 432x288 with 0 Axes>"
      ]
     },
     "metadata": {},
     "output_type": "display_data"
    }
   ],
   "source": [
    "plt.savefig(\"piechart2.png\",bbox_inches='tight',pad_inches=2,transparent=True)"
   ]
  },
  {
   "cell_type": "code",
   "execution_count": null,
   "metadata": {},
   "outputs": [],
   "source": []
  }
 ],
 "metadata": {
  "kernelspec": {
   "display_name": "Python 3",
   "language": "python",
   "name": "python3"
  },
  "language_info": {
   "codemirror_mode": {
    "name": "ipython",
    "version": 3
   },
   "file_extension": ".py",
   "mimetype": "text/x-python",
   "name": "python",
   "nbconvert_exporter": "python",
   "pygments_lexer": "ipython3",
   "version": "3.9.5"
  }
 },
 "nbformat": 4,
 "nbformat_minor": 4
}
